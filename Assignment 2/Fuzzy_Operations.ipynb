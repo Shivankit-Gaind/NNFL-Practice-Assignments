{
 "cells": [
  {
   "cell_type": "code",
   "execution_count": 3,
   "metadata": {
    "collapsed": true
   },
   "outputs": [],
   "source": [
    "import numpy as np"
   ]
  },
  {
   "cell_type": "code",
   "execution_count": 4,
   "metadata": {},
   "outputs": [],
   "source": [
    "def print_fuzzy(D):\n",
    "    key_list = list(D.keys()) \n",
    "    print('{ ',end='')\n",
    "    for i in range(0,len(D)-1):\n",
    "        print('%s/%s, ' % (key_list[i],D[key_list[i]]),end='')\n",
    "    print('%s/%s ' % (key_list[len(D)-1],D[key_list[len(D)-1]]),end='')\n",
    "    print('}')   "
   ]
  },
  {
   "cell_type": "markdown",
   "metadata": {},
   "source": [
    "# 1. Bold Intersection\n",
    "\n",
    "## Bold Intersection is defined as:-\n",
    "\n",
    "### µAoB(x) = Max [0, µA(x) + µB(x) - 1]\n",
    "\n",
    "## Question 1: Compute AoB\n",
    "### A = { 0.4/1, 0.9/2, 0.9/3, 1/4 }  and B = { 0.9/1, 0.5/2, 0.8/3  } \n",
    "### X = {1, 2, 3, 4} Universe of Discourse"
   ]
  },
  {
   "cell_type": "code",
   "execution_count": 11,
   "metadata": {},
   "outputs": [
    {
     "ename": "TypeError",
     "evalue": "'dict_keys' object does not support indexing",
     "output_type": "error",
     "traceback": [
      "\u001b[0;31m---------------------------------------------------------------------------\u001b[0m",
      "\u001b[0;31mTypeError\u001b[0m                                 Traceback (most recent call last)",
      "\u001b[0;32m<ipython-input-11-214dde8029b8>\u001b[0m in \u001b[0;36m<module>\u001b[0;34m()\u001b[0m\n\u001b[1;32m     13\u001b[0m \u001b[0;31m# Create dictionary B\u001b[0m\u001b[0;34m\u001b[0m\u001b[0;34m\u001b[0m\u001b[0m\n\u001b[1;32m     14\u001b[0m \u001b[0mB\u001b[0m \u001b[0;34m=\u001b[0m \u001b[0;34m{\u001b[0m\u001b[0;36m1\u001b[0m\u001b[0;34m:\u001b[0m\u001b[0;36m0.9\u001b[0m\u001b[0;34m,\u001b[0m \u001b[0;36m2\u001b[0m\u001b[0;34m:\u001b[0m\u001b[0;36m0.5\u001b[0m\u001b[0;34m,\u001b[0m \u001b[0;36m3\u001b[0m\u001b[0;34m:\u001b[0m\u001b[0;36m0.8\u001b[0m\u001b[0;34m}\u001b[0m\u001b[0;34m\u001b[0m\u001b[0m\n\u001b[0;32m---> 15\u001b[0;31m \u001b[0mprint_fuzzy\u001b[0m\u001b[0;34m(\u001b[0m\u001b[0mfuzzy_bold_intersection\u001b[0m\u001b[0;34m(\u001b[0m\u001b[0mA\u001b[0m\u001b[0;34m,\u001b[0m\u001b[0mB\u001b[0m\u001b[0;34m)\u001b[0m\u001b[0;34m)\u001b[0m\u001b[0;34m\u001b[0m\u001b[0m\n\u001b[0m",
      "\u001b[0;32m<ipython-input-11-214dde8029b8>\u001b[0m in \u001b[0;36mfuzzy_bold_intersection\u001b[0;34m(A, B)\u001b[0m\n\u001b[1;32m      6\u001b[0m     \u001b[0mkeysB\u001b[0m \u001b[0;34m=\u001b[0m \u001b[0mB\u001b[0m\u001b[0;34m.\u001b[0m\u001b[0mkeys\u001b[0m\u001b[0;34m(\u001b[0m\u001b[0;34m)\u001b[0m\u001b[0;34m\u001b[0m\u001b[0m\n\u001b[1;32m      7\u001b[0m     \u001b[0;32mfor\u001b[0m \u001b[0mi\u001b[0m \u001b[0;32min\u001b[0m \u001b[0mrange\u001b[0m\u001b[0;34m(\u001b[0m\u001b[0mlen\u001b[0m\u001b[0;34m(\u001b[0m\u001b[0mkeysA\u001b[0m\u001b[0;34m)\u001b[0m\u001b[0;34m)\u001b[0m\u001b[0;34m:\u001b[0m\u001b[0;34m\u001b[0m\u001b[0m\n\u001b[0;32m----> 8\u001b[0;31m         \u001b[0mfuzz_bu\u001b[0m\u001b[0;34m[\u001b[0m\u001b[0mint\u001b[0m\u001b[0;34m(\u001b[0m\u001b[0mkeysA\u001b[0m\u001b[0;34m[\u001b[0m\u001b[0mi\u001b[0m\u001b[0;34m]\u001b[0m\u001b[0;34m)\u001b[0m\u001b[0;34m]\u001b[0m\u001b[0;34m=\u001b[0m \u001b[0mfloat\u001b[0m\u001b[0;34m(\u001b[0m\u001b[0mmax\u001b[0m\u001b[0;34m(\u001b[0m\u001b[0;36m0\u001b[0m\u001b[0;34m,\u001b[0m\u001b[0mA\u001b[0m\u001b[0;34m.\u001b[0m\u001b[0mget\u001b[0m\u001b[0;34m(\u001b[0m\u001b[0mkeysA\u001b[0m\u001b[0;34m[\u001b[0m\u001b[0mi\u001b[0m\u001b[0;34m]\u001b[0m\u001b[0;34m)\u001b[0m\u001b[0;34m+\u001b[0m\u001b[0mB\u001b[0m\u001b[0;34m.\u001b[0m\u001b[0mget\u001b[0m\u001b[0;34m(\u001b[0m\u001b[0mkeysB\u001b[0m\u001b[0;34m[\u001b[0m\u001b[0mi\u001b[0m\u001b[0;34m]\u001b[0m\u001b[0;34m)\u001b[0m\u001b[0;34m-\u001b[0m\u001b[0;36m1\u001b[0m\u001b[0;34m)\u001b[0m\u001b[0;34m)\u001b[0m\u001b[0;34m\u001b[0m\u001b[0m\n\u001b[0m\u001b[1;32m      9\u001b[0m     \u001b[0;32mreturn\u001b[0m \u001b[0mfuzz_bu\u001b[0m\u001b[0;34m\u001b[0m\u001b[0m\n\u001b[1;32m     10\u001b[0m \u001b[0;34m\u001b[0m\u001b[0m\n",
      "\u001b[0;31mTypeError\u001b[0m: 'dict_keys' object does not support indexing"
     ]
    }
   ],
   "source": [
    "def fuzzy_bold_intersection(A,B):\n",
    "    # A and B are dictionaries whose keys are integers and whose values are the degrees of membership of the integers.\n",
    "    # Compute the Bold Intersection of A and B store it in a new dictionary fuzz_bu.\n",
    "    fuzz_bu = {}\n",
    "    keysA = A.keys()\n",
    "    keysB = B.keys()\n",
    "    for i in range(len(keysA)):\n",
    "        fuzz_bu[int(keysA[i])]= float(max(0,A.get(keysA[i])+B.get(keysB[i])-1))\n",
    "    return fuzz_bu\n",
    "\n",
    "# Create dictionary A\n",
    "A = {1:0.4, 2:0.9, 3:0.9, 4:1}\n",
    "# Create dictionary B\n",
    "B = {1:0.9, 2:0.5, 3:0.8}\n",
    "print_fuzzy(fuzzy_bold_intersection(A,B))"
   ]
  },
  {
   "cell_type": "markdown",
   "metadata": {},
   "source": [
    "# 2. Complement\n",
    "\n",
    "## Complement is defined as:-\n",
    "\n",
    "### µA’(x) =  [1 - µA(x) ], x belongs to X, where X is the Universe of Discourse\n",
    "\n",
    "## Question 2: Compute C complement\n",
    "### C = { 0.2/1, 0.9/3, 0.5/4 }\n",
    "### X = {1, 2, 3, 4} Universe of Discourse\n"
   ]
  },
  {
   "cell_type": "code",
   "execution_count": 5,
   "metadata": {},
   "outputs": [
    {
     "ename": "SyntaxError",
     "evalue": "invalid syntax (<ipython-input-5-75e3f15c4e76>, line 1)",
     "output_type": "error",
     "traceback": [
      "\u001b[1;36m  File \u001b[1;32m\"<ipython-input-5-75e3f15c4e76>\"\u001b[1;36m, line \u001b[1;32m1\u001b[0m\n\u001b[1;33m    def fuzzy_complement(A)\u001b[0m\n\u001b[1;37m                           ^\u001b[0m\n\u001b[1;31mSyntaxError\u001b[0m\u001b[1;31m:\u001b[0m invalid syntax\n"
     ]
    }
   ],
   "source": [
    "def fuzzy_complement(C)\n",
    "    # C is a dictionary whose keys are integers and whose values are the degrees of membership of the integers.\n",
    "    # Compute the Complement of C store it in a new dictionary fuzz_comp.\n",
    "    return fuzz_comp\n",
    "\n",
    "# Create dictionary C\n",
    "\n",
    "print_fuzzy(fuzzy_complement(C))"
   ]
  },
  {
   "cell_type": "markdown",
   "metadata": {},
   "source": [
    "# 3. Addition\n",
    "\n",
    "## Consider all possible pairs (x,y) such that x belongs to A and y belongs to B.\n",
    "## Each pair gives rise to a new element in the set(A+B) whose value is (x+y) and corresponding membership degree is min(µA(x), µB(y)).\n",
    "## Next eliminate all the repeating values in the set(A+B) by picking the maximum membership degree among all membership degrees for a particular value.\n",
    "\n",
    "## Here is an example:-\n",
    "\n",
    "### A = 0.3/1 + 0.6/2 + 1/3 + 0.7/4 + 0.2/5\n",
    "### B = 0.5/10 + 1/11 + 0.5/12\n",
    "\n",
    "### (A + B) = 0.3/11 + 0.5/12 + 0.5/13 + 0.5/14 + 0.2/15 + 0.3/12 + 0.6/13+1/14 + 0.7/15 + 0.2/16 \n",
    "###                  + 0.3/13 + 0.5/14 + 0.5/15 + 0.5/16 + 0.2/1\n",
    "\n",
    "### Get the max of the duplicates, so we get\n",
    "### (A + B) = (0.3/11) + 0.5/12 + 0.6/13 + 1/14 + 0.7/15 + 0.5/16 + 0.2/17\n",
    "\n",
    "# 4. Addition Modified:-\n",
    "\n",
    "### Define a function 'fuzzy_add_mod' which takes in 3 membership functions A,B and C.\n",
    "### Modified add is defined as follows:-\n",
    "### µ(A,B,C) =  µ(AoB) +  µC'\n",
    "\n",
    "## Question 3: Compute Add_modified(A,B,C)\n",
    "### Use A,B and C from questions 1 and 2\n"
   ]
  },
  {
   "cell_type": "code",
   "execution_count": 4,
   "metadata": {},
   "outputs": [
    {
     "ename": "SyntaxError",
     "evalue": "invalid syntax (<ipython-input-4-19c9a4360142>, line 1)",
     "output_type": "error",
     "traceback": [
      "\u001b[1;36m  File \u001b[1;32m\"<ipython-input-4-19c9a4360142>\"\u001b[1;36m, line \u001b[1;32m1\u001b[0m\n\u001b[1;33m    def fuzzy_add(A,B)\u001b[0m\n\u001b[1;37m                      ^\u001b[0m\n\u001b[1;31mSyntaxError\u001b[0m\u001b[1;31m:\u001b[0m invalid syntax\n"
     ]
    }
   ],
   "source": [
    "def fuzzy_add_mod(A,B,C)\n",
    "    # A,B and C are dictionaries whose keys are integers and whose values are the degrees of membership of the integers.\n",
    "    # Compute the Modified Sum of A, B and C and store it in a new dictionary fuzz_sum.\n",
    "    return fuzz_sum \n",
    "    \n",
    "# Create dictionary A\n",
    "# Create dictionary B\n",
    "# Create dictionary C\n",
    "\n",
    "print_fuzzy(fuzzy_add_mod(A,B,C))"
   ]
  },
  {
   "cell_type": "markdown",
   "metadata": {},
   "source": []
  }
 ],
 "metadata": {
  "kernelspec": {
   "display_name": "Python 3",
   "language": "python",
   "name": "python3"
  },
  "language_info": {
   "codemirror_mode": {
    "name": "ipython",
    "version": 3
   },
   "file_extension": ".py",
   "mimetype": "text/x-python",
   "name": "python",
   "nbconvert_exporter": "python",
   "pygments_lexer": "ipython3",
   "version": "3.5.1"
  }
 },
 "nbformat": 4,
 "nbformat_minor": 1
}
